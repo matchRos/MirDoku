{
 "cells": [
  {
   "cell_type": "markdown",
   "metadata": {},
   "source": [
    "# <font color = green> Unit 0: Presentation in ROS </font>"
   ]
  },
  {
   "cell_type": "markdown",
   "metadata": {},
   "source": [
    "All of us when we think of robotics think of robots that recognise different people, follow them, can tell you is they are seeing a tomato or a cup and can move around like another from of life in this planet.\n",
    "<br>\n",
    "But actually this has been the main battlefront in Robotices since the 70's.\n",
    "<br>\n",
    "Fortunately ROS is here to help. Thanks to its package system you are able to use the work of counties other roboticists before you, to have a robot do all those things in a relative short period of time."
   ]
  },
  {
   "cell_type": "markdown",
   "metadata": {},
   "source": [
    "## Working Example: Mira Robot Follows the Ball"
   ]
  },
  {
   "cell_type": "markdown",
   "metadata": {},
   "source": [
    "In the simulation of the right,you can see a small egg shaped robot called *Mira*. That robot is running a small colour Red tracking program. This means that she will try to follow the Red ball that she has just in front. So you are going to move the ball around and see how she tries to follow it."
   ]
  },
  {
   "cell_type": "markdown",
   "metadata": {},
   "source": [
    "### Step 1: Open the graphical tools interface"
   ]
  },
  {
   "cell_type": "markdown",
   "metadata": {},
   "source": [
    "Start the image_view in Command:"
   ]
  },
  {
   "cell_type": "raw",
   "metadata": {},
   "source": [
    "rosrun image_view image_view image:=/camera/rgb/image_raw"
   ]
  },
  {
   "cell_type": "markdown",
   "metadata": {},
   "source": [
    "### Step 2: Move the red ball with the keyboard"
   ]
  },
  {
   "cell_type": "markdown",
   "metadata": {},
   "source": [
    "By executing this you can now move the red ball as you would a normal robot. You can lower the speed of the environment pressing the keyboard key \"Z\", lowering slightly the speed each time you press."
   ]
  },
  {
   "cell_type": "markdown",
   "metadata": {},
   "source": [
    "### Step3: Now just have fun"
   ]
  },
  {
   "cell_type": "markdown",
   "metadata": {},
   "source": [
    "Move rhe ball in front of Mira and see how it follows. See how fast you can go until she loses track of the ball and try to make her follow you 360 degrees around her."
   ]
  },
  {
   "cell_type": "markdown",
   "metadata": {},
   "source": [
    "As you can see, this is a very simple example of what you are going to learn in this toturial. You will able to build programs that provide percepting to robots, and you will run the programs and see the results based on the robots used and environment provided in the simulation."
   ]
  },
  {
   "cell_type": "markdown",
   "metadata": {},
   "source": [
    "## In this course you will learn to:\n",
    "1. Use OpenCV with ROS\n",
    "2. Make robots track objects by its colour blobs\n",
    "3. Make robots navagate following floor lines with only RGB camera\n",
    "4. Make robots detect human faces and track them\n",
    "5. Make robots recognise different faces\n",
    "6. Make robots track a person through a 3D environment\n",
    "7. Make robots recognise flat surfaces like tales where object might be placed\n",
    "8. Make robots recognise objects and track them in 3D space wiht PointCloudSensors"
   ]
  },
  {
   "cell_type": "markdown",
   "metadata": {},
   "source": [
    "### How you  will learn all this?"
   ]
  },
  {
   "cell_type": "markdown",
   "metadata": {},
   "source": [
    "All Robot Ignite Courses are based on hands on learning because we have experienced that thats the best and fastest way to learn about robotics. Thats why to learn all the mentioned topics you will work with different robots and environments. You will work with:"
   ]
  },
  {
   "cell_type": "markdown",
   "metadata": {},
   "source": [
    "1. Mira Robot for Blob Tracking\n",
    "2. TurtleBot for line following\n",
    "3. Fetch Robot for people and object tracking and detection in different environments\n",
    "4. Aibo Robot for Final Project"
   ]
  },
  {
   "cell_type": "markdown",
   "metadata": {},
   "source": [
    "### Requirements"
   ]
  },
  {
   "cell_type": "markdown",
   "metadata": {},
   "source": [
    "Its enssential that before starting this course you know the folloeing:\n",
    "1. ROS Basic\n",
    "2. Highly advisable to have done the Robotignite Course for **TF and URDF robot Creation** to be able to understand all what is done in this course. \n",
    "3. Python basic knowledge\n",
    "4. Robotic Perception Basic Knowledege\n",
    "5. Some knowledge on how PIDs work"
   ]
  }
 ],
 "metadata": {
  "kernelspec": {
   "display_name": "Python 2",
   "language": "python",
   "name": "python2"
  },
  "language_info": {
   "codemirror_mode": {
    "name": "ipython",
    "version": 2
   },
   "file_extension": ".py",
   "mimetype": "text/x-python",
   "name": "python",
   "nbconvert_exporter": "python",
   "pygments_lexer": "ipython2",
   "version": "2.7.12"
  }
 },
 "nbformat": 4,
 "nbformat_minor": 2
}
