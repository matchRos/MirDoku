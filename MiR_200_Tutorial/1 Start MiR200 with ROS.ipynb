{
 "cells": [
  {
   "cell_type": "markdown",
   "metadata": {},
   "source": [
    "# Start MiR 200 with ROS\n",
    "## 1. ROS Setup (Kinetic)\n",
    "**Note**: Please install ROS **Kinetic** in <font color='red'> **Ubuntu 16.04**</font>.\n",
    "\n",
    "### 1.1 Setup your sources.list\n",
    "Setup your computer to accept software from packages.ros.org.\n",
    "<br>\n",
    "(Ref.: http://wiki.ros.org/kinetic/Installation/Ubuntu)"
   ]
  },
  {
   "cell_type": "raw",
   "metadata": {},
   "source": [
    "sudo sh -c 'echo \"deb http://packages.ros.org/ros/ubuntu $(lsb_release -sc) main\" > /etc/apt/sources.list.d/ros-latest.list'"
   ]
  },
  {
   "cell_type": "markdown",
   "metadata": {},
   "source": [
    "### 1.2 Set up your keys"
   ]
  },
  {
   "cell_type": "raw",
   "metadata": {},
   "source": [
    "sudo apt-key adv --keyserver hkp://ha.pool.sks-keyservers.net:80 --recv-key 421C365BD9FF1F717815A3895523BAEEB01FA116"
   ]
  },
  {
   "cell_type": "markdown",
   "metadata": {},
   "source": [
    "### 1.3 Installation\n",
    "#### 1.3.1 Update the Debian package index : "
   ]
  },
  {
   "cell_type": "raw",
   "metadata": {},
   "source": [
    "sudo apt-get update"
   ]
  },
  {
   "cell_type": "markdown",
   "metadata": {},
   "source": [
    "#### 1.3.2 ROS-Desktop-Full Install:"
   ]
  },
  {
   "cell_type": "raw",
   "metadata": {},
   "source": [
    "sudo apt-get install ros-kinetic-desktop-full"
   ]
  },
  {
   "cell_type": "markdown",
   "metadata": {},
   "source": [
    "If you want to install more ROS packages:"
   ]
  },
  {
   "cell_type": "raw",
   "metadata": {},
   "source": [
    "sudo apt-get install ros-kinetic-PACKAGE"
   ]
  },
  {
   "cell_type": "markdown",
   "metadata": {},
   "source": [
    "e.g."
   ]
  },
  {
   "cell_type": "raw",
   "metadata": {},
   "source": [
    "sudo apt-get install ros-kinetic-slam-gmapping"
   ]
  },
  {
   "cell_type": "markdown",
   "metadata": {},
   "source": [
    "### 1.4 Initialize rosdep\n",
    "Before you can use ROS, you will need to initialize rosdep. rosdep enables you to easily install system dependencies for source you want to compile and is required to run some core components in ROS. "
   ]
  },
  {
   "cell_type": "raw",
   "metadata": {},
   "source": [
    "sudo rosdep init"
   ]
  },
  {
   "cell_type": "raw",
   "metadata": {},
   "source": [
    "rosdep update"
   ]
  },
  {
   "cell_type": "markdown",
   "metadata": {},
   "source": [
    "### 1.5 Environment setup\n",
    "It's convenient if the ROS environment variables are automatically added to your bash session every time a new shell is launched: \n",
    "#### 1.5.1 Open \".bashrc\" file"
   ]
  },
  {
   "cell_type": "raw",
   "metadata": {},
   "source": [
    "sudo gedit ~/.bashrc"
   ]
  },
  {
   "cell_type": "markdown",
   "metadata": {},
   "source": [
    "#### 1.5.2 Copy command into file\n",
    "It's convenient if the ROS environment variables are automatically added to your bash session every time a new shell is launched:"
   ]
  },
  {
   "cell_type": "raw",
   "metadata": {},
   "source": [
    "source /opt/ros/kinetic/setup.bash"
   ]
  },
  {
   "cell_type": "markdown",
   "metadata": {},
   "source": [
    "#### 1.5.3 Run command in Terminal"
   ]
  },
  {
   "cell_type": "raw",
   "metadata": {},
   "source": [
    "source ~/.bashrc"
   ]
  },
  {
   "cell_type": "markdown",
   "metadata": {},
   "source": [
    "### 1.6 Dependencies for building packages"
   ]
  },
  {
   "cell_type": "raw",
   "metadata": {},
   "source": [
    "sudo apt install python-rosinstall python-rosinstall-generator python-wstool build-essential"
   ]
  },
  {
   "cell_type": "markdown",
   "metadata": {},
   "source": [
    "## 2. Create a ROS Workspace\n",
    "*Ref.: http://wiki.ros.org/ROS/Tutorials/InstallingandConfiguringROSEnvironment*"
   ]
  },
  {
   "cell_type": "markdown",
   "metadata": {},
   "source": [
    "First, open a new Terminal and execute the following commands:"
   ]
  },
  {
   "cell_type": "raw",
   "metadata": {},
   "source": [
    "mkdir -p ~/catkin_ws/src\n",
    "cd ~/catkin_ws/\n",
    "catkin_make"
   ]
  },
  {
   "cell_type": "markdown",
   "metadata": {},
   "source": [
    "Open the \".bashrc\" file again."
   ]
  },
  {
   "cell_type": "raw",
   "metadata": {},
   "source": [
    "sudo gedit ~/.bashrc"
   ]
  },
  {
   "cell_type": "markdown",
   "metadata": {},
   "source": [
    "Copy the command into file.\n",
    "**Note:** change the name of \"youruser\"."
   ]
  },
  {
   "cell_type": "raw",
   "metadata": {},
   "source": [
    "source /home/youruser/catkin_ws/src:/opt/ros/kinetic/share"
   ]
  },
  {
   "cell_type": "markdown",
   "metadata": {},
   "source": [
    "Run command in Terminal"
   ]
  },
  {
   "cell_type": "raw",
   "metadata": {},
   "source": [
    "source ~/.bashrc"
   ]
  },
  {
   "cell_type": "markdown",
   "metadata": {},
   "source": [
    "Finished."
   ]
  },
  {
   "cell_type": "markdown",
   "metadata": {},
   "source": [
    "## 3. Installation for the Simulation of MIR 200"
   ]
  },
  {
   "cell_type": "markdown",
   "metadata": {},
   "source": [
    "### 3.1 Preliminaries\n",
    "Run the following commands:"
   ]
  },
  {
   "cell_type": "raw",
   "metadata": {},
   "source": [
    "sudo sh -c 'echo \"deb http://packages.ros.org/ros/ubuntu $(lsb_release -sc) main\" > /etc/apt/sources.list.d/ros-latest.list'"
   ]
  },
  {
   "cell_type": "raw",
   "metadata": {},
   "source": [
    "wget http://packages.ros.org/ros.key -O - | sudo apt-key add -"
   ]
  },
  {
   "cell_type": "raw",
   "metadata": {},
   "source": [
    "sudo apt-get update -qq"
   ]
  },
  {
   "cell_type": "markdown",
   "metadata": {},
   "source": [
    "### 3.2 Binary install"
   ]
  },
  {
   "cell_type": "raw",
   "metadata": {},
   "source": [
    "sudo apt install ros-kinetic-mir-robot"
   ]
  },
  {
   "cell_type": "raw",
   "metadata": {},
   "source": [
    "sudo apt install ros-kinetic-navigation"
   ]
  },
  {
   "cell_type": "raw",
   "metadata": {},
   "source": [
    "sudo apt install ros-kinetic-hector-mapping"
   ]
  },
  {
   "cell_type": "raw",
   "metadata": {},
   "source": [
    "sudo apt install ros-kinetic-gmapping"
   ]
  },
  {
   "cell_type": "raw",
   "metadata": {},
   "source": [
    "sudo apt install ros-kinetic-teleop-twist-keyboard"
   ]
  },
  {
   "cell_type": "markdown",
   "metadata": {},
   "source": [
    "**Note:** If you want to install more packages, please use this command:"
   ]
  },
  {
   "cell_type": "raw",
   "metadata": {},
   "source": [
    " sudo apt install ros-kinetic-packagename"
   ]
  },
  {
   "cell_type": "markdown",
   "metadata": {},
   "source": [
    "### 3.3 Source install"
   ]
  },
  {
   "cell_type": "raw",
   "metadata": {},
   "source": [
    "cd ~/catkin_ws/src/"
   ]
  },
  {
   "cell_type": "markdown",
   "metadata": {},
   "source": [
    "**Clone mir_robot into the catkin workspace**"
   ]
  },
  {
   "cell_type": "raw",
   "metadata": {},
   "source": [
    "git clone https://github.com/Jryl/MiR_200_Sim.git"
   ]
  },
  {
   "cell_type": "markdown",
   "metadata": {},
   "source": [
    "**Install all dependencies**"
   ]
  },
  {
   "cell_type": "raw",
   "metadata": {},
   "source": [
    "sudo apt-get update -qq\n",
    "sudo apt-get install -qq -y python-rosdep\n",
    "sudo rosdep init\n",
    "rosdep update\n",
    "rosdep install --from-paths ./ -i -y --rosdistro kinetic"
   ]
  },
  {
   "cell_type": "markdown",
   "metadata": {},
   "source": [
    "**Build all packages in the catkin workspace**"
   ]
  },
  {
   "cell_type": "raw",
   "metadata": {},
   "source": [
    "source /opt/ros/kinetic/setup.bash\n",
    "catkin_init_workspace\n",
    "cd ~/catkin_ws\n",
    "catkin_make -DCMAKE_BUILD_TYPE=RelWithDebugInfo"
   ]
  },
  {
   "cell_type": "markdown",
   "metadata": {},
   "source": [
    "## 4. Run the Simulation with existing map"
   ]
  },
  {
   "cell_type": "markdown",
   "metadata": {},
   "source": [
    "### 4.1 Start simulation\n",
    "Run the all the launch files for the navigation of MIR"
   ]
  },
  {
   "cell_type": "raw",
   "metadata": {},
   "source": [
    "roslaunch mir_navigation mir_start.launch"
   ]
  },
  {
   "cell_type": "markdown",
   "metadata": {},
   "source": [
    "### 4.2 Set Poses with Rviz"
   ]
  },
  {
   "cell_type": "markdown",
   "metadata": {},
   "source": [
    "Now, please first see the **jupyter notebook** <font color = red>\"***2 Rviz***\"</font> to learn about the Rviz."
   ]
  },
  {
   "cell_type": "markdown",
   "metadata": {},
   "source": [
    "In ROS, there are many ways to set poses of the robot. Here, we use three methods to complete it. "
   ]
  },
  {
   "cell_type": "markdown",
   "metadata": {},
   "source": [
    "#### 4.2.1 Set pose with \"2D Pose Estimate\""
   ]
  },
  {
   "cell_type": "markdown",
   "metadata": {},
   "source": [
    "Try to set a simple goal with \"2D Pose Estimate\", if you've finished the study of Rviz."
   ]
  },
  {
   "cell_type": "markdown",
   "metadata": {},
   "source": [
    "<img src=\"MIR200/Rviz8.png\" width=\"300\">"
   ]
  },
  {
   "cell_type": "markdown",
   "metadata": {},
   "source": [
    "#### 4.2.2 Keyboard teleoperation"
   ]
  },
  {
   "cell_type": "markdown",
   "metadata": {},
   "source": [
    "First, we need to set up the package for keyboard teleoperation."
   ]
  },
  {
   "cell_type": "raw",
   "metadata": {},
   "source": [
    "sudo apt-get install ros-kinetic-teleop-twist-keyboard"
   ]
  },
  {
   "cell_type": "markdown",
   "metadata": {},
   "source": [
    "Then, run the keyboard teleoperation in a new terminal."
   ]
  },
  {
   "cell_type": "raw",
   "metadata": {},
   "source": [
    "rosrun teleop_twist_keyboard teleop_twist_keyboard.py"
   ]
  },
  {
   "cell_type": "markdown",
   "metadata": {},
   "source": [
    "See the on-screen instructions: "
   ]
  },
  {
   "cell_type": "raw",
   "metadata": {},
   "source": [
    "Reading from the keyboard  and Publishing to Twist!\n",
    "---------------------------\n",
    "Moving around:\n",
    "   u    i    o\n",
    "   j    k    l\n",
    "   m    ,    .\n",
    "\n",
    "For Holonomic mode (strafing), hold down the shift key:\n",
    "---------------------------\n",
    "   U    I    O\n",
    "   J    K    L\n",
    "   M    <    >\n",
    "\n",
    "t : up (+z)\n",
    "b : down (-z)\n",
    "\n",
    "anything else : stop\n",
    "\n",
    "q/z : increase/decrease max speeds by 10%\n",
    "w/x : increase/decrease only linear speed by 10%\n",
    "e/c : increase/decrease only angular speed by 10%\n",
    "\n",
    "CTRL-C to quit\n",
    "\n",
    "currently:\tspeed 0.5\tturn 1.0 "
   ]
  },
  {
   "cell_type": "markdown",
   "metadata": {},
   "source": [
    "#### 4.2.3 Create a certain position"
   ]
  },
  {
   "cell_type": "markdown",
   "metadata": {},
   "source": [
    "The program \"goal_target.py\" is to set x and y of a goal position. So, just run it."
   ]
  },
  {
   "cell_type": "raw",
   "metadata": {},
   "source": [
    "rosrun mir_navigation goal_target.py"
   ]
  },
  {
   "cell_type": "markdown",
   "metadata": {},
   "source": [
    "See the on-screen instructions: "
   ]
  },
  {
   "cell_type": "markdown",
   "metadata": {},
   "source": [
    "<img src=\"MIR200/goaltarget2.png\" width=\"350\">"
   ]
  },
  {
   "cell_type": "markdown",
   "metadata": {},
   "source": [
    "Choose the number to let the robot move."
   ]
  },
  {
   "cell_type": "markdown",
   "metadata": {},
   "source": [
    "<img src=\"MIR200/goaltarget3.png\" width=\"350\">"
   ]
  },
  {
   "cell_type": "markdown",
   "metadata": {},
   "source": [
    "In above teminal, we can get the information of the duration time and the length of path."
   ]
  },
  {
   "cell_type": "markdown",
   "metadata": {},
   "source": [
    "To change the positions of the goals, please open the program \"goal_target.py\"."
   ]
  },
  {
   "cell_type": "markdown",
   "metadata": {},
   "source": [
    "<img src=\"MIR200/goaltarget1.png\" width=\"350\">"
   ]
  },
  {
   "cell_type": "markdown",
   "metadata": {},
   "source": [
    "Try to change x-y values of each goal. "
   ]
  },
  {
   "cell_type": "markdown",
   "metadata": {},
   "source": [
    "PS: To get info about the current postion of robot and set it to the goal, please run the command:"
   ]
  },
  {
   "cell_type": "raw",
   "metadata": {},
   "source": [
    "rostopic echo /amcl_pose"
   ]
  },
  {
   "cell_type": "markdown",
   "metadata": {},
   "source": [
    "## 5. Run the Simulation_Mapping"
   ]
  },
  {
   "cell_type": "markdown",
   "metadata": {},
   "source": [
    "If you run the following command, please close the simulation of part 4. Because this two simulations are for different uses. First one is to navigate the robot, and this one is to create the map of the  environment."
   ]
  },
  {
   "cell_type": "raw",
   "metadata": {},
   "source": [
    "roslaunch mir_navigation mir_mapping.launch"
   ]
  },
  {
   "cell_type": "markdown",
   "metadata": {},
   "source": [
    "<img src=\"MIR200/mapping1.png\" width=\"350\">"
   ]
  },
  {
   "cell_type": "markdown",
   "metadata": {},
   "source": [
    "To get the entire map, move the robot around by using button \"2D Nav Goal\"."
   ]
  },
  {
   "cell_type": "markdown",
   "metadata": {},
   "source": [
    "After finishing the map of environment, try to save it by using following commmand and change the lase word \"name\" to the name that you want."
   ]
  },
  {
   "cell_type": "raw",
   "metadata": {},
   "source": [
    "rosrun map_server map_saver -f name"
   ]
  },
  {
   "cell_type": "markdown",
   "metadata": {},
   "source": [
    "Check saved files in /home. They are maps which should be uploaded in the naviagtion simulation. "
   ]
  }
 ],
 "metadata": {
  "kernelspec": {
   "display_name": "Python 2",
   "language": "python",
   "name": "python2"
  },
  "language_info": {
   "codemirror_mode": {
    "name": "ipython",
    "version": 2
   },
   "file_extension": ".py",
   "mimetype": "text/x-python",
   "name": "python",
   "nbconvert_exporter": "python",
   "pygments_lexer": "ipython2",
   "version": "2.7.12"
  }
 },
 "nbformat": 4,
 "nbformat_minor": 2
}
