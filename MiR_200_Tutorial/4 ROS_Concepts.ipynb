{
 "cells": [
  {
   "cell_type": "markdown",
   "metadata": {},
   "source": [
    "# Conpects_ROS "
   ]
  },
  {
   "cell_type": "markdown",
   "metadata": {},
   "source": [
    "## <font color=blue>1 Launch files</font>"
   ]
  },
  {
   "cell_type": "markdown",
   "metadata": {},
   "source": [
    "### 1.1 What's \"launch\"?"
   ]
  },
  {
   "cell_type": "markdown",
   "metadata": {},
   "source": [
    "The Launch file is an organisation of the program files which are to be started. It can include many types of files, for instance, launch file, node file. It's simply easy to learn about it if you see the code of launch file and konw how to form it."
   ]
  },
  {
   "cell_type": "markdown",
   "metadata": {},
   "source": [
    "For the official explanation of it, please see the websit : http://wiki.ros.org/roslaunch"
   ]
  },
  {
   "cell_type": "markdown",
   "metadata": {},
   "source": [
    "### 1.2 Example"
   ]
  },
  {
   "cell_type": "markdown",
   "metadata": {},
   "source": [
    "Let's have a look of the ***mir_maze_world.launch*** file. (To find it: mir_gazebo/launch/mir_maze_world.launch)"
   ]
  },
  {
   "cell_type": "markdown",
   "metadata": {},
   "source": [
    "* To start the 3d environment in Gazebo, we just need to launch the *mir_maze_world.launch* file. \n",
    "* However, this launch file starts the *mir_empty_world.launch* file with the argument \"gui\". \n",
    "* And mir_empty_world.launch starts more files with arguments. "
   ]
  },
  {
   "cell_type": "markdown",
   "metadata": {},
   "source": [
    "So, Launch file is very practical to make the start of launch and node files logical, just like a *tree-structure*."
   ]
  },
  {
   "cell_type": "markdown",
   "metadata": {},
   "source": [
    "Try to write som launch files according to the examples. "
   ]
  },
  {
   "cell_type": "markdown",
   "metadata": {},
   "source": [
    "## <font color=blue>2 URDF</font>"
   ]
  },
  {
   "cell_type": "markdown",
   "metadata": {},
   "source": [
    "### 2.1 URDF concepts"
   ]
  },
  {
   "cell_type": "markdown",
   "metadata": {},
   "source": [
    "#### 2.1.1 What:\n",
    "* Unified Robot Description Format\n",
    "* Kinematic and basic physics description of a robot"
   ]
  },
  {
   "cell_type": "markdown",
   "metadata": {},
   "source": [
    "#### 2.1.2 How:\n",
    "* XML format\n",
    "* Tags: link, joint, transmission, ...\n",
    "* Kinematic tree structure\n",
    "* Order in the file does not matter"
   ]
  },
  {
   "cell_type": "markdown",
   "metadata": {},
   "source": [
    "### 2.2 Link and joint representation"
   ]
  },
  {
   "cell_type": "markdown",
   "metadata": {},
   "source": [
    "<img src=\"MIR200/urdf1.png\" width=\"500\">"
   ]
  },
  {
   "cell_type": "markdown",
   "metadata": {},
   "source": [
    "#### 2.2.1 Basic Usage_Link element"
   ]
  },
  {
   "cell_type": "markdown",
   "metadata": {},
   "source": [
    "1) Robot link with one frame of reference\n",
    "* Syntax:\n",
    "   * name\n",
    "* child element *visual*\n",
    "   * visual description of the link\n",
    "   * can be multiple (union of all)\n",
    "   * geometry primitives(box, cylinder, sphere)\n",
    "   * geometry meshes (resources stl/dae)\n",
    "   * origin: placement relatively to link reference frame (rpy = fixed axis rotation)\n",
    "   * material"
   ]
  },
  {
   "cell_type": "markdown",
   "metadata": {},
   "source": [
    "<img src=\"MIR200/urdf2.png\" width=\"300\">"
   ]
  },
  {
   "cell_type": "markdown",
   "metadata": {},
   "source": [
    "2) Rpbot link with one frame of reference\n",
    "* Syntax:\n",
    "  * name\n",
    "* child element *visual*\n",
    "  * visual description of the link\n",
    "  * can be multiple (union of all)\n",
    "  * geometry primitives(box, cylinder, sphere)\n",
    "  * geometry meshes (resources stl/dae)\n",
    "  * origin: placement relatively to link reference frame (rpy = fixed axis rotation)\n",
    "  * material"
   ]
  },
  {
   "cell_type": "markdown",
   "metadata": {},
   "source": [
    "<img src=\"MIR200/urdf3.png\" width=\"300\">"
   ]
  },
  {
   "cell_type": "markdown",
   "metadata": {},
   "source": [
    "#### 2.2.2 Basic usage_ Joint element"
   ]
  },
  {
   "cell_type": "markdown",
   "metadata": {},
   "source": [
    "1) Robot joint between two links\n",
    "* Syntax:\n",
    "  * name\n",
    "  * type: continuous, fixed, revolute,prismatic, planar, floating\n",
    "* child element parent\n",
    "* child element child\n",
    "* child elementorigin\n",
    "  * always in parent reference frame\n",
    "* child element axis\n",
    "  * for prismatic and revolute\n",
    "  * in local joint reference frame"
   ]
  },
  {
   "cell_type": "markdown",
   "metadata": {},
   "source": [
    "<img src=\"MIR200/urdf4.png\" width=\"300\">"
   ]
  },
  {
   "cell_type": "markdown",
   "metadata": {},
   "source": [
    "#### 2.2.3 Basic usage_Advanced link element"
   ]
  },
  {
   "cell_type": "markdown",
   "metadata": {},
   "source": [
    "1) Physics and collision description\n",
    "* child element *collision*\n",
    "  * similar to visual description ofthe link\n",
    "  * can be multiple (union of all)\n",
    "  * mesh resolution should be low\n"
   ]
  },
  {
   "cell_type": "markdown",
   "metadata": {},
   "source": [
    "<img src=\"MIR200/urdf5.png\" width=\"300\">"
   ]
  },
  {
   "cell_type": "markdown",
   "metadata": {},
   "source": [
    "* child element *inertial*\n",
    "  * center of mass\n",
    "  * mass\n",
    "  * inertia matrix"
   ]
  },
  {
   "cell_type": "markdown",
   "metadata": {},
   "source": [
    "<img src=\"MIR200/urdf6.png\" width=\"300\">"
   ]
  },
  {
   "cell_type": "markdown",
   "metadata": {},
   "source": [
    "2) Physical limits, and dynamic properties\n",
    "* child element *limit*\n",
    "  * lower and upper\n",
    "  * rotation/translation limits\n",
    "  * maximum velocity\n",
    "  * maximum effort\n",
    "* child element *dynamics*\n",
    "  * friction\n",
    "  * damping"
   ]
  },
  {
   "cell_type": "markdown",
   "metadata": {},
   "source": [
    "<img src=\"MIR200/urdf7.png\" width=\"300\">"
   ]
  },
  {
   "cell_type": "markdown",
   "metadata": {},
   "source": [
    "3) Kinematic properties\n",
    "* child element *mimic*\n",
    "  * one joint follows another\n",
    "  * value=multiplier × other_joint_value + offset"
   ]
  },
  {
   "cell_type": "markdown",
   "metadata": {},
   "source": [
    "<img src=\"MIR200/urdf8.png\" width=\"300\">"
   ]
  },
  {
   "cell_type": "markdown",
   "metadata": {},
   "source": [
    "#### 2.2.4 Basic usage_Additional elements"
   ]
  },
  {
   "cell_type": "markdown",
   "metadata": {},
   "source": [
    "1) Transmission between jointand actuator\n",
    "* element *transmission*\n",
    "  * type\n",
    "  * joint\n",
    "  * actuator"
   ]
  },
  {
   "cell_type": "markdown",
   "metadata": {},
   "source": [
    "<img src=\"MIR200/urdf9.png\" width=\"300\">"
   ]
  },
  {
   "cell_type": "markdown",
   "metadata": {},
   "source": [
    "2) Gazebo setting\n",
    "* element *gazebo*\n",
    "  * reference\n",
    "  * sensors\n",
    "  * plugins\n",
    "  * additional properties(selfcollide, gravityenable, ...)"
   ]
  },
  {
   "cell_type": "markdown",
   "metadata": {},
   "source": [
    "<img src=\"MIR200/urdf10.png\" width=\"300\">"
   ]
  },
  {
   "cell_type": "markdown",
   "metadata": {},
   "source": [
    "## <font color=blue>3 XACRO</font>"
   ]
  },
  {
   "cell_type": "markdown",
   "metadata": {},
   "source": [
    "### 3.1 Concept\n",
    "* What:\n",
    "  * XML Macro language used for URDF simplification\n",
    "  * Increase modularity\n",
    "  * Reduce redundancy\n",
    "  * Permit Parametrization\n",
    "  * Generate URDF on-the-fly\n",
    "* How:\n",
    "  * Inclusion\n",
    "  * Macros\n",
    "  * Properties\n",
    "  * Expansion of all xacro statements\n",
    "  * Command line and output to stdout"
   ]
  },
  {
   "cell_type": "markdown",
   "metadata": {},
   "source": [
    "### 3.2 Basic usage"
   ]
  },
  {
   "cell_type": "markdown",
   "metadata": {},
   "source": [
    "1) Every xml elements starts with *xacro*\n",
    "* Properties:\n",
    "  * definition\n",
    "  * instantiation\n",
    "  * string concatenation\n",
    "* Simple math\n",
    "  * in variables\n",
    "  * nested variables\n",
    "  * no function"
   ]
  },
  {
   "cell_type": "markdown",
   "metadata": {},
   "source": [
    "<img src=\"MIR200/macro1.png\" width=\"300\">"
   ]
  },
  {
   "cell_type": "markdown",
   "metadata": {},
   "source": [
    "* Simple macro:\n",
    "  * definition\n",
    "  * instantiation\n",
    "* Parametrized macro:\n",
    "  * definition\n",
    "  * instantiation\n",
    "* Nested macros"
   ]
  },
  {
   "cell_type": "markdown",
   "metadata": {},
   "source": [
    "<img src=\"MIR200/macro2.png\" width=\"300\">"
   ]
  },
  {
   "cell_type": "markdown",
   "metadata": {},
   "source": [
    "* Default values:\n",
    "  * Provides default values foroptional or repeated parameters\n",
    "* Conditional statement:\n",
    "  * Only tests true or false0 and 1\n",
    "* Command line argument:\n",
    "  * xacro.py file.xacro rad:=3"
   ]
  },
  {
   "cell_type": "markdown",
   "metadata": {},
   "source": [
    "<img src=\"MIR200/macro3.png\" width=\"300\">"
   ]
  },
  {
   "cell_type": "markdown",
   "metadata": {},
   "source": [
    "### 3.3 Typical application"
   ]
  },
  {
   "cell_type": "markdown",
   "metadata": {},
   "source": [
    "* Reduce redundant code\n",
    "  * Repeated links should be defined as macros and called with parameters\n",
    "  * Typical parameters: prefix, reflect\n",
    "* Parametrized entities\n",
    "  * Use parameters for length of links\n",
    "  * Use math for origin or inertia calculation\n",
    "  * Shape parameters according to length\n",
    "* Modularity:\n",
    "  * Generic code can be put as include, to be reused in other files\n",
    "  * Separate concerns to easily deactivate parts of the urdf (remove gazebo tags)"
   ]
  },
  {
   "cell_type": "markdown",
   "metadata": {},
   "source": [
    "## <font color=blue>4 move_base</font>"
   ]
  },
  {
   "cell_type": "markdown",
   "metadata": {},
   "source": [
    "The move_base package provides an implementation of an action that, given a goal in the world, will attempt to reach it with a mobile base. "
   ]
  },
  {
   "cell_type": "markdown",
   "metadata": {},
   "source": [
    "The move_base node links together a global and local planner to accomplish its global navigation task."
   ]
  },
  {
   "cell_type": "markdown",
   "metadata": {},
   "source": [
    "It supports any global planner specified in the **nav_core** package and any local planner specified in the nav_core package. The move_base node also maintains two **costmaps**, one for the global planner, and one for a local planner that are used to accomplish navigation tasks."
   ]
  },
  {
   "cell_type": "markdown",
   "metadata": {},
   "source": [
    "<img src=\"MIR200/nav2.png\" width=\"600\">"
   ]
  },
  {
   "cell_type": "markdown",
   "metadata": {},
   "source": [
    "The move_base node provides a ROS interface for configuring, running, and interacting with the navigation stack on a robot. A high-level view of the move_base node and its interaction with other components is shown above. The blue vary based on the robot platform, the gray are optional but are provided for all systems, and the white nodes are required but also provided for all systems."
   ]
  },
  {
   "cell_type": "markdown",
   "metadata": {},
   "source": [
    "### 4.1 nav_core"
   ]
  },
  {
   "cell_type": "markdown",
   "metadata": {},
   "source": [
    "<img src=\"MIR200/nav3.png\" width=\"300\">"
   ]
  },
  {
   "cell_type": "markdown",
   "metadata": {},
   "source": [
    "#### 4.1.1 BaseGlobalPlanner"
   ]
  },
  {
   "cell_type": "markdown",
   "metadata": {},
   "source": [
    "The nav_core::BaseGlobalPlanner provides an interface for global planners used in navigation. All global planners written as plugins for the move_base node must adhere to this interface. Current global planners using the nav_core::BaseGlobalPlanner interface are: "
   ]
  },
  {
   "cell_type": "markdown",
   "metadata": {},
   "source": [
    "* **global_planner**: A fast, interpolated global planner built as a more flexible replacement to navfn. (pluginlib name: \"global_planner/GlobalPlanner\") \n",
    "* **navfn**: A grid-based global planner that uses a navigation function to compute a path for a robot. (pluginlib name: \"navfn/NavfnROS\") \n",
    "* **carrot_planner**: A simple global planner that takes a user-specified goal point and attempts to move the robot as close to it as possible, even when that goal point is in an obstacle. (pluginlib name: \"carrot_planner/CarrotPlanner\") "
   ]
  },
  {
   "cell_type": "markdown",
   "metadata": {},
   "source": [
    "#### 4.1.2 BaseLocalPlanner"
   ]
  },
  {
   "cell_type": "markdown",
   "metadata": {},
   "source": [
    "The nav_core::BaseLocalPlanner provides an interface for local planners used in navigation. All local planners written as plugins for the move_base node must adhere to this interface. Current local planners using the nav_core::BaseLocalPlanner interface are: "
   ]
  },
  {
   "cell_type": "markdown",
   "metadata": {},
   "source": [
    "* **base_local_planner**: Provides implementations of the Dynamic Window Approach(DWA)and Trajectory Rollout approaches to local control\n",
    "\n",
    "* **dwa_local_planner**: Modular DWA implementation with a lot cleaner and easier interface to understand and more flexible y axis variables for holonomic robots than base_local_planner's DWA\n",
    "\n",
    "* **eband_local_planner**: Implements the Elastic Band method on the SE2 manifold\n",
    "\n",
    "* **teb_local_planner**: Implements the Timed-Elastic-Band method for online trajectory optimization "
   ]
  },
  {
   "cell_type": "markdown",
   "metadata": {},
   "source": [
    "#### 4.1.3 RecoveryBehavior"
   ]
  },
  {
   "cell_type": "markdown",
   "metadata": {},
   "source": [
    "The nav_core::RecoveryBehavior provides an interface for recovery behaviors used in navigation. All recovery behaviors written as plugins for the move_base node must adhere to this interface. Current recovery behaviors using the nav_core::RecoveryBehavior interface are: "
   ]
  },
  {
   "cell_type": "markdown",
   "metadata": {},
   "source": [
    "* clear_costmap_recovery: A recovery behavior that reverts the costmaps used by move_base to the static map outside of a user-specified range.\n",
    "\n",
    "* rotate_recovery: A recovery behavior that perfroms a 360 degree rotation of the robot to attempt to clear out space. "
   ]
  },
  {
   "cell_type": "markdown",
   "metadata": {},
   "source": [
    "### 4.2 Costmap_2d"
   ]
  },
  {
   "cell_type": "markdown",
   "metadata": {},
   "source": [
    "This package provides an implementation of a 2D costmap that \n",
    "* takes in **sensor data** from the world\n",
    "* builds a 2D or 3D **occupancy grid** of the data\n",
    "* inflates costs in a 2D costmap based on the occupancy grid and a user specified **inflation** radius. "
   ]
  },
  {
   "cell_type": "markdown",
   "metadata": {},
   "source": [
    "This package also provides support for **map_server** based initialization of a costmap, rolling window based costmaps, and parameter based subscription to and configuration of sensor topics."
   ]
  },
  {
   "cell_type": "markdown",
   "metadata": {},
   "source": [
    "The costmap_2d package provides a configurable structure that maintains information about where the robot should **navigate in the form of an occupancy grid**. The costmap uses sensor data and information from the static map to store and **update information about obstacles** in the world ."
   ]
  },
  {
   "cell_type": "markdown",
   "metadata": {},
   "source": [
    "Layer Specifications:\n",
    "* **Static Map Layer**: The static map layer represents a largely unchanging portion of the costmap, like those generated by SLAM. \n",
    "* **Obstacle Map Layer**: The obstacle layer tracks the obstacles as read by the sensor data.\n",
    "* **Inflation Layer**:The inflation layer is an optimization that adds new values around lethal obstacles (i.e. inflates the obstacles) in order to make the costmap represent the configuration space of the robot. \n",
    "* **Other Layers**: Other layers can be implemented and used in the costmap via pluginlib. "
   ]
  }
 ],
 "metadata": {
  "kernelspec": {
   "display_name": "Python 2",
   "language": "python",
   "name": "python2"
  },
  "language_info": {
   "codemirror_mode": {
    "name": "ipython",
    "version": 2
   },
   "file_extension": ".py",
   "mimetype": "text/x-python",
   "name": "python",
   "nbconvert_exporter": "python",
   "pygments_lexer": "ipython2",
   "version": "2.7.12"
  }
 },
 "nbformat": 4,
 "nbformat_minor": 2
}
