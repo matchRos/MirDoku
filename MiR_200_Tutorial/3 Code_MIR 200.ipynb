{
 "cells": [
  {
   "cell_type": "markdown",
   "metadata": {},
   "source": [
    "To get a better control of the MIR or to compare with different path planning algorithms,it's needed to know how the code works."
   ]
  },
  {
   "cell_type": "markdown",
   "metadata": {},
   "source": [
    "In MIR 200 Code, there are 7 parts:\n",
    "1. **mir_actions**: Action definitions for the MiR robot\n",
    "2. **mir_description**: URDF description of the MiR robot\n",
    "3. **mir_dwb_critics**: Plugins for the dwb_local_planner used in Gazebo\n",
    "4. **mir_driver**: A reverse ROS bridge for the MiR robot\n",
    "5. **mir_gazebo**: Simulation specific launch and configuration files for the MiR robot\n",
    "6. **mir_msgs**: Message definitions for the MiR robot\n",
    "7. **mir_navigation**: move_base launch and configuration files"
   ]
  },
  {
   "cell_type": "markdown",
   "metadata": {},
   "source": [
    "The most important parts of them are \"**mir_gazebo**\" and \"**mir_navigation**\"."
   ]
  },
  {
   "cell_type": "markdown",
   "metadata": {},
   "source": [
    "## 1. mir_gazebo"
   ]
  },
  {
   "cell_type": "markdown",
   "metadata": {},
   "source": [
    "The package \"mir_gazebo\" is to create 3D MIR model and enviroment in Gezebo for the simulation."
   ]
  },
  {
   "cell_type": "markdown",
   "metadata": {},
   "source": [
    "### 1.1 Gazebo"
   ]
  },
  {
   "cell_type": "markdown",
   "metadata": {},
   "source": [
    "Gazebo is a 3D dynamic simulator with the ability to accurately and efficiently simulate populations of robots in complex indoor and outdoor environments. While similar to game engines, Gazebo offers physics simulation at a much higher degree of fidelity, a suite of sensors, and interfaces for both users and programs(Official explanation)."
   ]
  },
  {
   "cell_type": "markdown",
   "metadata": {},
   "source": [
    "To get more details, please check the offical Toturial of [**Gazebo**](http://gazebosim.org/tutorials)"
   ]
  },
  {
   "cell_type": "markdown",
   "metadata": {},
   "source": [
    "In fact, there is already the 3D environment for MIR in Gazebo. It's only needed if you want to create a new robot model or 3D environment. The models can also edited in the code(http://wiki.ros.org/xacro). For details, please see the introduction of *mir_descroption* package."
   ]
  },
  {
   "cell_type": "markdown",
   "metadata": {},
   "source": [
    "### 1.2 Start the 3D environment for MiR"
   ]
  },
  {
   "cell_type": "markdown",
   "metadata": {},
   "source": [
    "To start the simulation, we should launch *mir_maze_world.launch* file. In fact, we have started it when the *mir_start.launch* or *mir_mapping.launch* file were launched."
   ]
  },
  {
   "cell_type": "markdown",
   "metadata": {},
   "source": [
    "To know the concept of the **launch file**, please check another chapter *\"4 Basic Concepts of ROS\"*. Then you can understand how to launch the files from other launch files."
   ]
  },
  {
   "cell_type": "markdown",
   "metadata": {},
   "source": [
    "### 1.3 Change different 3d worlds"
   ]
  },
  {
   "cell_type": "markdown",
   "metadata": {},
   "source": [
    "Normally, we don't need to do this step. However, if you want to change the 3d environment, one launch file in mir_gazebo should be noticed. That's ***mir_empty_world.launch***. We can upload different 3D-environments in Gazebo with following command:"
   ]
  },
  {
   "cell_type": "raw",
   "metadata": {},
   "source": [
    "<arg name=\"world_name\" default=\"$(find mir_gazebo)/maps/world/pp_test_5.world\"/>"
   ]
  },
  {
   "cell_type": "markdown",
   "metadata": {},
   "source": [
    "Besides, if you change the world, you also need to change the cooresponding map, so that the robot can localize itself correctly. In the *\"maps/world\"*, there are files for 3d environment, whose format is *\".world\"*. The *\".pgm\"* file is the map file which should be uploaded for the localization.The detials please see the introduction of *mir_naviagtion* package. "
   ]
  },
  {
   "cell_type": "markdown",
   "metadata": {},
   "source": [
    "PS: Don't forget to copy the map or world files that you create into the ***map*** folder."
   ]
  },
  {
   "cell_type": "markdown",
   "metadata": {},
   "source": [
    "## 2. mir_description"
   ]
  },
  {
   "cell_type": "markdown",
   "metadata": {},
   "source": [
    "This package is for the upload of the 3D models. "
   ]
  },
  {
   "cell_type": "markdown",
   "metadata": {},
   "source": [
    "### 2.1 Upload models"
   ]
  },
  {
   "cell_type": "markdown",
   "metadata": {},
   "source": [
    "By launching file *\"upload_mir_urdf.launch\"*, we can visualize the MiR200 model in gazebo and rviz."
   ]
  },
  {
   "cell_type": "markdown",
   "metadata": {},
   "source": [
    "There are two main types of files which are included in mir_description package, *axcr* and *urdf*. **Urdf** is to describe the Kinematic and basic physics description of a robot.  **Axcro** is used for URDF simplification and to increase modularity. It's similar to the launch file but just for the simplification of the model description files. "
   ]
  },
  {
   "cell_type": "markdown",
   "metadata": {},
   "source": [
    "The more details and functions of urdf and axcro please chech the note '*4 Basic Concepts in ROS*'."
   ]
  },
  {
   "cell_type": "markdown",
   "metadata": {},
   "source": [
    "### 2.2 Set up models"
   ]
  },
  {
   "cell_type": "markdown",
   "metadata": {},
   "source": [
    "There are different types of model files that you can create. For example, stl. or dae. files. You can create 3D models in SolidWorks, Autodesk Inventor or other 3D Softwares, then export them to get the corresponded format of files."
   ]
  },
  {
   "cell_type": "markdown",
   "metadata": {},
   "source": [
    "### 2.2 Import models "
   ]
  },
  {
   "cell_type": "markdown",
   "metadata": {},
   "source": [
    "Like the following command, you can simply include the model file in xacro file."
   ]
  },
  {
   "cell_type": "raw",
   "metadata": {},
   "source": [
    "<xacro:include filename=\"$(find mir_description)/urdf/include/mir_200_v1.urdf.xacro\" />"
   ]
  },
  {
   "cell_type": "markdown",
   "metadata": {},
   "source": [
    "First, you need to set up a launch file to upload the models, like *upload_mir_urdf.launch*"
   ]
  },
  {
   "cell_type": "markdown",
   "metadata": {},
   "source": [
    "Then, it will be used to load models in Gazebo and real world."
   ]
  },
  {
   "cell_type": "markdown",
   "metadata": {},
   "source": [
    "#### 2.2.1 Import models in Gazebo"
   ]
  },
  {
   "cell_type": "markdown",
   "metadata": {},
   "source": [
    "This is the command that to load mir200 in Gazebo. You can check the entire program *mir_gazebo_common.launch* in mir_gazebo package."
   ]
  },
  {
   "cell_type": "raw",
   "metadata": {},
   "source": [
    "<include file=\"$(find mir_description)/launch/upload_mir_urdf.launch\" />"
   ]
  },
  {
   "cell_type": "markdown",
   "metadata": {},
   "source": [
    "#### 2.2.2 Import models in real world"
   ]
  },
  {
   "cell_type": "markdown",
   "metadata": {},
   "source": [
    "This part is not belong to the simulation. If you just learn the simulation, please ignore it."
   ]
  },
  {
   "cell_type": "markdown",
   "metadata": {},
   "source": [
    "Another command that is used for the visualization of the MiR200 in Rviz when we start the real MiR200. You can also check the entire program *mir.launch* in mir_driver package."
   ]
  },
  {
   "cell_type": "raw",
   "metadata": {},
   "source": [
    "<include file=\"$(find mir_description)/launch/upload_mir_urdf.launch\"/>"
   ]
  },
  {
   "cell_type": "markdown",
   "metadata": {},
   "source": [
    "## 3. mir_navigation"
   ]
  },
  {
   "cell_type": "markdown",
   "metadata": {},
   "source": [
    "This package is the key one for **Mapping**, **Localization** and **Path planning** of MIR200."
   ]
  },
  {
   "cell_type": "markdown",
   "metadata": {},
   "source": [
    "In fact, numbers of files will be started after executing the *mir_start.launch* file. The following picture shows the structure of the launch files."
   ]
  },
  {
   "cell_type": "markdown",
   "metadata": {},
   "source": [
    "<img src=\"MIR200/nav1.png\" width=\"600\">"
   ]
  },
  {
   "cell_type": "markdown",
   "metadata": {},
   "source": [
    "Three mian parts are included in mir_start.launch."
   ]
  },
  {
   "cell_type": "markdown",
   "metadata": {},
   "source": [
    "### 3.1 nav_start.launch"
   ]
  },
  {
   "cell_type": "markdown",
   "metadata": {},
   "source": [
    "The nav_start.launch is for the **path planning**. "
   ]
  },
  {
   "cell_type": "markdown",
   "metadata": {},
   "source": [
    "It wil start the RViz to show the trajectories through different path planning algorithms. "
   ]
  },
  {
   "cell_type": "markdown",
   "metadata": {},
   "source": [
    "Plotjuggler is to show the information of the velocity and acceleration in x, y, z directions."
   ]
  },
  {
   "cell_type": "markdown",
   "metadata": {},
   "source": [
    "The map will be uploaded with *start_maps.launch*, so that the path of the MiR200 can be calculated according to it. "
   ]
  },
  {
   "cell_type": "markdown",
   "metadata": {},
   "source": [
    "#### 3.1.1 move_base"
   ]
  },
  {
   "cell_type": "markdown",
   "metadata": {},
   "source": [
    "The main part is [**move_base**](http://wiki.ros.org/move_base). About the move_base, you can find it in ROS wiki or directly in the 4 Basic Concepts in ROS."
   ]
  },
  {
   "cell_type": "markdown",
   "metadata": {},
   "source": [
    "In the move_base file, there are two costmaps which are definiert, namely global costmap and local costmap. "
   ]
  },
  {
   "cell_type": "markdown",
   "metadata": {},
   "source": [
    "The global costmap is the map, in which a path from the start to the goal for mobile robot will be created according to the pervious map. "
   ]
  },
  {
   "cell_type": "markdown",
   "metadata": {},
   "source": [
    "The local costmap is for the obstacles avoidance. The local map is updated all the time to know the changes of the the environment. Then, a local path will be replaned to avoid the obstacles. "
   ]
  },
  {
   "cell_type": "markdown",
   "metadata": {},
   "source": [
    "#### 3.1.2 Local path planning"
   ]
  },
  {
   "cell_type": "markdown",
   "metadata": {},
   "source": [
    "The file *costmap_common_params.yaml* is for the definition of the common parameters of the both costmaps. There are also some its own parameters for individual costmaps, which are updated in its own parameter_costmap_files."
   ]
  },
  {
   "cell_type": "markdown",
   "metadata": {},
   "source": [
    "In the *move_base* file, there is one command that should be took care. It's shown in the following line,"
   ]
  },
  {
   "cell_type": "raw",
   "metadata": {},
   "source": [
    "<arg name=\"local_planner\"   default=\"dwa\"   doc=\"Local planner can be either dwb, base, teb or pose\"/>"
   ]
  },
  {
   "cell_type": "markdown",
   "metadata": {},
   "source": [
    "This command is for the definition of the local path algorithm. There are five algorithms for the local costmap. They are dwa, dwb, base, teb and pose. Now, it's \"dwa\"(default=\"dwa\"). You can change it to others. "
   ]
  },
  {
   "cell_type": "markdown",
   "metadata": {},
   "source": [
    "#### 3.1.3 Global path planning"
   ]
  },
  {
   "cell_type": "markdown",
   "metadata": {},
   "source": [
    "For the global costmap, there are also different algorithms for the Path planning. If you want to change it, please open the *global_planner_params.yaml* file in the *config* folder."
   ]
  },
  {
   "cell_type": "markdown",
   "metadata": {},
   "source": [
    "There are four algorithms for the global path planning. They are:\n",
    "* base_global_planner: SBPLLatticePlanner\n",
    "* base_global_planner: global_planner/GlobalPlanner\n",
    "* base_global_planner: navfn/NavfnROS\n",
    "* base_global_planner: carrot_planner/CarrotPlanner"
   ]
  },
  {
   "cell_type": "markdown",
   "metadata": {},
   "source": [
    "You can choose one of them. Then, the different paths will be created for mobile robot. More details of this four algorithms can be found [**here**](http://wiki.ros.org/global_planner?distro=melodic). "
   ]
  },
  {
   "cell_type": "markdown",
   "metadata": {},
   "source": [
    "**1) global_planner/GlobalPlanner**"
   ]
  },
  {
   "cell_type": "markdown",
   "metadata": {},
   "source": [
    "For the *global_planner/GlobalPlanner*, there are three variables the you need to know. \n",
    "\n",
    "They are *use_dijkstra*, *use_quadratic* and *use_grid_path*. \n",
    "\n",
    "By setting them, you can get eight possibilities. But not all of them work. So just have a try!"
   ]
  },
  {
   "cell_type": "markdown",
   "metadata": {},
   "source": [
    "**2) navfn/NavfnROS**"
   ]
  },
  {
   "cell_type": "markdown",
   "metadata": {},
   "source": [
    "The navfn (navigation-function) bases on the dijkstra's algorithm. It performs in the path planning very well. And it's also very easy to use, because you don't need to change the parameters for different situation."
   ]
  },
  {
   "cell_type": "markdown",
   "metadata": {},
   "source": [
    "**3) carrot_planner/CarrotPlanner**"
   ]
  },
  {
   "cell_type": "markdown",
   "metadata": {},
   "source": [
    "CarrotPlanner it just for the simple path planning. So it's not very useful. For more details, you can get in the ROSwiki."
   ]
  },
  {
   "cell_type": "markdown",
   "metadata": {},
   "source": [
    "**4) SBPLLatticePlanner**"
   ]
  },
  {
   "cell_type": "markdown",
   "metadata": {},
   "source": [
    "Now, the optimal global path-planning algorithm the I've found is the SBPLLatticePlanner with ADPlanner. "
   ]
  },
  {
   "cell_type": "markdown",
   "metadata": {},
   "source": [
    "In the SBPLLatticePlanner, there are two ways to plan the path: ARA* and AD*."
   ]
  },
  {
   "cell_type": "markdown",
   "metadata": {},
   "source": [
    "So, you can set this two parameters to get different paths. Besides, you need to change some other paramters to get the better performance of the path-planning. The introduction of the parameters can be found in the code directly. "
   ]
  },
  {
   "cell_type": "markdown",
   "metadata": {},
   "source": [
    "SBPLLatticePlanner(AD) can deal with the complex situation better. For example, the environment with more obstacles. But rememeber to set the parameters of it to get better performance."
   ]
  },
  {
   "cell_type": "markdown",
   "metadata": {},
   "source": [
    "#### 3.1.4 Change maps: start_maps.launch"
   ]
  },
  {
   "cell_type": "markdown",
   "metadata": {},
   "source": [
    "In this launch file, the map will be here loaded. Just give the path to the map."
   ]
  },
  {
   "cell_type": "markdown",
   "metadata": {},
   "source": [
    "<img src=\"MIR200/goal7.png\" width=\"380\">"
   ]
  },
  {
   "cell_type": "markdown",
   "metadata": {},
   "source": [
    "**Note**: To change the map, you need to change the path of the map in *start_maps.launch*."
   ]
  },
  {
   "cell_type": "markdown",
   "metadata": {},
   "source": [
    "### 3.2 local_start.launch"
   ]
  },
  {
   "cell_type": "markdown",
   "metadata": {},
   "source": [
    "Local_start.launch is to start the localization of mobile robot. It uses the Monte Carlo localization algorithm. [**MCL**](https://en.wikipedia.org/wiki/Monte_Carlo_localization) is robust and often used in the Localisation. The MCL uses particle filter to get more distributions to adapt to the real world."
   ]
  },
  {
   "cell_type": "markdown",
   "metadata": {},
   "source": [
    "Note: In the Simulation, we need to start the AMCL file to let the robot know the position in the environment. But with the real MiR200, we don't need to start it, because it already starts the AMCL file when you start the MiR200. Otherweise, you will see the robot always moves in two positions because of the double Lolisation."
   ]
  },
  {
   "cell_type": "markdown",
   "metadata": {},
   "source": [
    "### 3.3 sim_start.launch"
   ]
  },
  {
   "cell_type": "markdown",
   "metadata": {},
   "source": [
    "This launch file is to start the simulation of MiR200 in Gazebo. In fact, it has been introduced in the first chapter *mir_gazebo*. Here, we just need to start the launch file and the nodes."
   ]
  },
  {
   "cell_type": "markdown",
   "metadata": {},
   "source": [
    "This part is just for the simulation. So if you use the real MiR200, there is no need to start it. This is also one difference between the code for the simulation and real robot."
   ]
  },
  {
   "cell_type": "markdown",
   "metadata": {},
   "source": [
    "### 3.4 Plotjuggler"
   ]
  },
  {
   "cell_type": "markdown",
   "metadata": {},
   "source": [
    "Plotjuggler is to show the data of the movement, such as the velocity and position. First, you need to start the topic in the \"Streaming\". Then you can put all the data that you want into the diagramms."
   ]
  },
  {
   "cell_type": "markdown",
   "metadata": {},
   "source": [
    "<img src=\"MIR200/plot1.png\" width=\"500\">"
   ]
  },
  {
   "cell_type": "markdown",
   "metadata": {},
   "source": [
    "### 3.5 Go_to_Goal"
   ]
  },
  {
   "cell_type": "markdown",
   "metadata": {},
   "source": [
    "This part is to realise the interface between the terminal and the mobile robot. You can give the command of the goal. And the robot will plan a route to reach the goal."
   ]
  },
  {
   "cell_type": "markdown",
   "metadata": {},
   "source": [
    "More details please see the chapter \"**5 Goal_Target**\"."
   ]
  }
 ],
 "metadata": {
  "kernelspec": {
   "display_name": "Python 2",
   "language": "python",
   "name": "python2"
  },
  "language_info": {
   "codemirror_mode": {
    "name": "ipython",
    "version": 2
   },
   "file_extension": ".py",
   "mimetype": "text/x-python",
   "name": "python",
   "nbconvert_exporter": "python",
   "pygments_lexer": "ipython2",
   "version": "2.7.12"
  }
 },
 "nbformat": 4,
 "nbformat_minor": 2
}
